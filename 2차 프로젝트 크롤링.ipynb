{
 "cells": [
  { 
   "cell_type": "code",
   "execution_count": 24, 
   "id": "97eaed84", 
   "metadata": {}, 
   "outputs": [ 
    {
     "name": "stdout",
     "output_type": "stream",
     "text": [
      "Requirement already satisfied: selenium in c:\\users\\smhrd\\anaconda3\\lib\\site-packages (4.1.0)\n",
      "Requirement already satisfied: trio~=0.17 in c:\\users\\smhrd\\anaconda3\\lib\\site-packages (from selenium) (0.19.0)\n",
      "Requirement already satisfied: trio-websocket~=0.9 in c:\\users\\smhrd\\anaconda3\\lib\\site-packages (from selenium) (0.9.2)\n",
      "Requirement already satisfied: urllib3[secure]~=1.26 in c:\\users\\smhrd\\anaconda3\\lib\\site-packages (from selenium) (1.26.7)\n",
      "Requirement already satisfied: attrs>=19.2.0 in c:\\users\\smhrd\\anaconda3\\lib\\site-packages (from trio~=0.17->selenium) (21.2.0)\n",
      "Requirement already satisfied: async-generator>=1.9 in c:\\users\\smhrd\\anaconda3\\lib\\site-packages (from trio~=0.17->selenium) (1.10)\n",
      "Requirement already satisfied: outcome in c:\\users\\smhrd\\anaconda3\\lib\\site-packages (from trio~=0.17->selenium) (1.1.0)\n",
      "Requirement already satisfied: idna in c:\\users\\smhrd\\anaconda3\\lib\\site-packages (from trio~=0.17->selenium) (3.2)\n",
      "Requirement already satisfied: sortedcontainers in c:\\users\\smhrd\\anaconda3\\lib\\site-packages (from trio~=0.17->selenium) (2.4.0)\n",
      "Requirement already satisfied: cffi>=1.14 in c:\\users\\smhrd\\anaconda3\\lib\\site-packages (from trio~=0.17->selenium) (1.14.6)\n",
      "Requirement already satisfied: sniffio in c:\\users\\smhrd\\anaconda3\\lib\\site-packages (from trio~=0.17->selenium) (1.2.0)\n",
      "Requirement already satisfied: pycparser in c:\\users\\smhrd\\anaconda3\\lib\\site-packages (from cffi>=1.14->trio~=0.17->selenium) (2.20)\n",
      "Requirement already satisfied: wsproto>=0.14 in c:\\users\\smhrd\\anaconda3\\lib\\site-packages (from trio-websocket~=0.9->selenium) (1.0.0)\n",
      "Requirement already satisfied: pyOpenSSL>=0.14 in c:\\users\\smhrd\\anaconda3\\lib\\site-packages (from urllib3[secure]~=1.26->selenium) (21.0.0)\n",
      "Requirement already satisfied: cryptography>=1.3.4 in c:\\users\\smhrd\\anaconda3\\lib\\site-packages (from urllib3[secure]~=1.26->selenium) (3.4.8)\n",
      "Requirement already satisfied: certifi in c:\\users\\smhrd\\anaconda3\\lib\\site-packages (from urllib3[secure]~=1.26->selenium) (2021.10.8)\n",
      "Requirement already satisfied: six>=1.5.2 in c:\\users\\smhrd\\anaconda3\\lib\\site-packages (from pyOpenSSL>=0.14->urllib3[secure]~=1.26->selenium) (1.16.0)\n",
      "Requirement already satisfied: h11<1,>=0.9.0 in c:\\users\\smhrd\\anaconda3\\lib\\site-packages (from wsproto>=0.14->trio-websocket~=0.9->selenium) (0.12.0)\n"
     ]
    }
   ],
   "source": [
    "! pip install selenium"
   ]
  },
  {
   "cell_type": "code",
   "execution_count": 25,
   "id": "8ea0c812",
   "metadata": {},
   "outputs": [],
   "source": [
    "import requests as req"
   ]
  },
  {
   "cell_type": "code",
   "execution_count": 26,
   "id": "e9de8e7e",
   "metadata": {},
   "outputs": [],
   "source": [
    "from bs4 import BeautifulSoup as bs"
   ]
  },
  {
   "cell_type": "code",
   "execution_count": 27,
   "id": "d04ed9e5",
   "metadata": {},
   "outputs": [],
   "source": [
    "# webdriver = 웹을 통제하기 위한 라이브러리 (크롬브라우저)\n",
    "# Keys = 키보드역할을 해주는 라이브러리\n",
    "from selenium import webdriver as wb\n",
    "from selenium.webdriver.common.keys import Keys\n",
    "import time\n",
    "import pandas as pd"
   ]
  },
  {
   "cell_type": "markdown",
   "id": "5ea42a7e",
   "metadata": {},
   "source": [
    "# 티셔츠"
   ]
  },
  {
   "cell_type": "code",
   "execution_count": 28,
   "id": "69b329ba",
   "metadata": {},
   "outputs": [],
   "source": [
    "options = wb.ChromeOptions()\n",
    "options.add_argument('headless')\n",
    "options.add_argument('window-size=1920x1080')\n",
    "options.add_argument(\"disable-gpu\")"
   ]
  },
  {
   "cell_type": "code",
   "execution_count": 29,
   "id": "3a4fc283",
   "metadata": {},
   "outputs": [
    {
     "name": "stderr",
     "output_type": "stream",
     "text": [
      "C:\\Users\\smhrd\\AppData\\Local\\Temp/ipykernel_7708/2501091524.py:9: DeprecationWarning: find_element_by_* commands are deprecated. Please use find_element() instead\n",
      "  driver.find_element_by_xpath('//*[@id=\"cnb\"]/div/ul/li[3]/a').click()\n",
      "C:\\Users\\smhrd\\AppData\\Local\\Temp/ipykernel_7708/2501091524.py:11: DeprecationWarning: find_element_by_* commands are deprecated. Please use find_element() instead\n",
      "  driver.find_element_by_xpath('//*[@id=\"contents\"]/div[1]/ul/li[1]/a').click()\n",
      "C:\\Users\\smhrd\\AppData\\Local\\Temp/ipykernel_7708/2501091524.py:14: DeprecationWarning: find_elements_by_* commands are deprecated. Please use find_elements() instead\n",
      "  img=driver.find_elements_by_css_selector(\"img.thumb\")\n",
      "C:\\Users\\smhrd\\AppData\\Local\\Temp/ipykernel_7708/2501091524.py:17: DeprecationWarning: find_element_by_* commands are deprecated. Please use find_element() instead\n",
      "  title=driver.find_element_by_css_selector(\".detail-fixed-wrap > h3\")\n",
      "C:\\Users\\smhrd\\AppData\\Local\\Temp/ipykernel_7708/2501091524.py:18: DeprecationWarning: find_element_by_* commands are deprecated. Please use find_element() instead\n",
      "  price=driver.find_element_by_css_selector(\".product_price_css > td\")\n",
      "C:\\Users\\smhrd\\AppData\\Local\\Temp/ipykernel_7708/2501091524.py:19: DeprecationWarning: find_element_by_* commands are deprecated. Please use find_element() instead\n",
      "  brand=driver.find_element_by_css_selector(\".prd_brand_css > td\")\n"
     ]
    },
    {
     "ename": "WebDriverException",
     "evalue": "Message: target frame detached\n  (Session info: chrome=99.0.4844.82)\nStacktrace:\nBacktrace:\n\tOrdinal0 [0x00C99943+2595139]\n\tOrdinal0 [0x00C2C9F1+2148849]\n\tOrdinal0 [0x00B243F0+1065968]\n\tOrdinal0 [0x00B15A97+1006231]\n\tOrdinal0 [0x00B14AD0+1002192]\n\tOrdinal0 [0x00B150D8+1003736]\n\tOrdinal0 [0x00B15068+1003624]\n\tOrdinal0 [0x00B1AD85+1027461]\n\tOrdinal0 [0x00B1AFC6+1028038]\n\tOrdinal0 [0x00B162AD+1008301]\n\tOrdinal0 [0x00B167C5+1009605]\n\tOrdinal0 [0x00B165AF+1009071]\n\tOrdinal0 [0x00B15BC6+1006534]\n\tOrdinal0 [0x00B14AD0+1002192]\n\tOrdinal0 [0x00B150D8+1003736]\n\tOrdinal0 [0x00B2C6EF+1099503]\n\tOrdinal0 [0x00B2692B+1075499]\n\tOrdinal0 [0x00B264A5+1074341]\n\tOrdinal0 [0x00B26C7B+1076347]\n\tOrdinal0 [0x00B26F50+1077072]\n\tOrdinal0 [0x00B52FD6+1257430]\n\tOrdinal0 [0x00B51EC4+1253060]\n\tOrdinal0 [0x00B47AB3+1211059]\n\tOrdinal0 [0x00B6B9EC+1358316]\n\tOrdinal0 [0x00B47474+1209460]\n\tOrdinal0 [0x00B6BC04+1358852]\n\tOrdinal0 [0x00B7BAF2+1424114]\n\tOrdinal0 [0x00B6B806+1357830]\n\tOrdinal0 [0x00B46086+1204358]\n\tOrdinal0 [0x00B46F96+1208214]\n\tGetHandleVerifier [0x00E3B232+1658114]\n\tGetHandleVerifier [0x00EF312C+2411516]\n\tGetHandleVerifier [0x00D2F261+560433]\n\tGetHandleVerifier [0x00D2E366+556598]\n\tOrdinal0 [0x00C3286B+2173035]\n\tOrdinal0 [0x00C375F8+2192888]\n\tOrdinal0 [0x00C376E5+2193125]\n\tOrdinal0 [0x00C411FC+2232828]\n\tBaseThreadInitThunk [0x754AFA29+25]\n\tRtlGetAppContainerNamedObjectPath [0x77587A7E+286]\n\tRtlGetAppContainerNamedObjectPath [0x77587A4E+238]\n",
     "output_type": "error",
     "traceback": [
      "\u001b[1;31m---------------------------------------------------------------------------\u001b[0m",
      "\u001b[1;31mWebDriverException\u001b[0m                        Traceback (most recent call last)",
      "\u001b[1;32m~\\AppData\\Local\\Temp/ipykernel_7708/2501091524.py\u001b[0m in \u001b[0;36m<module>\u001b[1;34m\u001b[0m\n\u001b[0;32m     13\u001b[0m \u001b[1;32mfor\u001b[0m \u001b[0mi\u001b[0m \u001b[1;32min\u001b[0m \u001b[0mrange\u001b[0m\u001b[1;33m(\u001b[0m\u001b[1;36m10\u001b[0m\u001b[1;33m)\u001b[0m\u001b[1;33m:\u001b[0m\u001b[1;33m\u001b[0m\u001b[1;33m\u001b[0m\u001b[0m\n\u001b[0;32m     14\u001b[0m     \u001b[0mimg\u001b[0m\u001b[1;33m=\u001b[0m\u001b[0mdriver\u001b[0m\u001b[1;33m.\u001b[0m\u001b[0mfind_elements_by_css_selector\u001b[0m\u001b[1;33m(\u001b[0m\u001b[1;34m\"img.thumb\"\u001b[0m\u001b[1;33m)\u001b[0m\u001b[1;33m\u001b[0m\u001b[1;33m\u001b[0m\u001b[0m\n\u001b[1;32m---> 15\u001b[1;33m     \u001b[0mimg\u001b[0m\u001b[1;33m[\u001b[0m\u001b[0mi\u001b[0m\u001b[1;33m]\u001b[0m\u001b[1;33m.\u001b[0m\u001b[0mclick\u001b[0m\u001b[1;33m(\u001b[0m\u001b[1;33m)\u001b[0m\u001b[1;33m\u001b[0m\u001b[1;33m\u001b[0m\u001b[0m\n\u001b[0m\u001b[0;32m     16\u001b[0m     \u001b[0mtime\u001b[0m\u001b[1;33m.\u001b[0m\u001b[0msleep\u001b[0m\u001b[1;33m(\u001b[0m\u001b[1;36m1\u001b[0m\u001b[1;33m)\u001b[0m\u001b[1;33m\u001b[0m\u001b[1;33m\u001b[0m\u001b[0m\n\u001b[0;32m     17\u001b[0m     \u001b[0mtitle\u001b[0m\u001b[1;33m=\u001b[0m\u001b[0mdriver\u001b[0m\u001b[1;33m.\u001b[0m\u001b[0mfind_element_by_css_selector\u001b[0m\u001b[1;33m(\u001b[0m\u001b[1;34m\".detail-fixed-wrap > h3\"\u001b[0m\u001b[1;33m)\u001b[0m\u001b[1;33m\u001b[0m\u001b[1;33m\u001b[0m\u001b[0m\n",
      "\u001b[1;32m~\\anaconda3\\lib\\site-packages\\selenium\\webdriver\\remote\\webelement.py\u001b[0m in \u001b[0;36mclick\u001b[1;34m(self)\u001b[0m\n\u001b[0;32m     79\u001b[0m     \u001b[1;32mdef\u001b[0m \u001b[0mclick\u001b[0m\u001b[1;33m(\u001b[0m\u001b[0mself\u001b[0m\u001b[1;33m)\u001b[0m \u001b[1;33m->\u001b[0m \u001b[1;32mNone\u001b[0m\u001b[1;33m:\u001b[0m\u001b[1;33m\u001b[0m\u001b[1;33m\u001b[0m\u001b[0m\n\u001b[0;32m     80\u001b[0m         \u001b[1;34m\"\"\"Clicks the element.\"\"\"\u001b[0m\u001b[1;33m\u001b[0m\u001b[1;33m\u001b[0m\u001b[0m\n\u001b[1;32m---> 81\u001b[1;33m         \u001b[0mself\u001b[0m\u001b[1;33m.\u001b[0m\u001b[0m_execute\u001b[0m\u001b[1;33m(\u001b[0m\u001b[0mCommand\u001b[0m\u001b[1;33m.\u001b[0m\u001b[0mCLICK_ELEMENT\u001b[0m\u001b[1;33m)\u001b[0m\u001b[1;33m\u001b[0m\u001b[1;33m\u001b[0m\u001b[0m\n\u001b[0m\u001b[0;32m     82\u001b[0m \u001b[1;33m\u001b[0m\u001b[0m\n\u001b[0;32m     83\u001b[0m     \u001b[1;32mdef\u001b[0m \u001b[0msubmit\u001b[0m\u001b[1;33m(\u001b[0m\u001b[0mself\u001b[0m\u001b[1;33m)\u001b[0m\u001b[1;33m:\u001b[0m\u001b[1;33m\u001b[0m\u001b[1;33m\u001b[0m\u001b[0m\n",
      "\u001b[1;32m~\\anaconda3\\lib\\site-packages\\selenium\\webdriver\\remote\\webelement.py\u001b[0m in \u001b[0;36m_execute\u001b[1;34m(self, command, params)\u001b[0m\n\u001b[0;32m    708\u001b[0m             \u001b[0mparams\u001b[0m \u001b[1;33m=\u001b[0m \u001b[1;33m{\u001b[0m\u001b[1;33m}\u001b[0m\u001b[1;33m\u001b[0m\u001b[1;33m\u001b[0m\u001b[0m\n\u001b[0;32m    709\u001b[0m         \u001b[0mparams\u001b[0m\u001b[1;33m[\u001b[0m\u001b[1;34m'id'\u001b[0m\u001b[1;33m]\u001b[0m \u001b[1;33m=\u001b[0m \u001b[0mself\u001b[0m\u001b[1;33m.\u001b[0m\u001b[0m_id\u001b[0m\u001b[1;33m\u001b[0m\u001b[1;33m\u001b[0m\u001b[0m\n\u001b[1;32m--> 710\u001b[1;33m         \u001b[1;32mreturn\u001b[0m \u001b[0mself\u001b[0m\u001b[1;33m.\u001b[0m\u001b[0m_parent\u001b[0m\u001b[1;33m.\u001b[0m\u001b[0mexecute\u001b[0m\u001b[1;33m(\u001b[0m\u001b[0mcommand\u001b[0m\u001b[1;33m,\u001b[0m \u001b[0mparams\u001b[0m\u001b[1;33m)\u001b[0m\u001b[1;33m\u001b[0m\u001b[1;33m\u001b[0m\u001b[0m\n\u001b[0m\u001b[0;32m    711\u001b[0m \u001b[1;33m\u001b[0m\u001b[0m\n\u001b[0;32m    712\u001b[0m     \u001b[1;32mdef\u001b[0m \u001b[0mfind_element\u001b[0m\u001b[1;33m(\u001b[0m\u001b[0mself\u001b[0m\u001b[1;33m,\u001b[0m \u001b[0mby\u001b[0m\u001b[1;33m=\u001b[0m\u001b[0mBy\u001b[0m\u001b[1;33m.\u001b[0m\u001b[0mID\u001b[0m\u001b[1;33m,\u001b[0m \u001b[0mvalue\u001b[0m\u001b[1;33m=\u001b[0m\u001b[1;32mNone\u001b[0m\u001b[1;33m)\u001b[0m\u001b[1;33m:\u001b[0m\u001b[1;33m\u001b[0m\u001b[1;33m\u001b[0m\u001b[0m\n",
      "\u001b[1;32m~\\anaconda3\\lib\\site-packages\\selenium\\webdriver\\remote\\webdriver.py\u001b[0m in \u001b[0;36mexecute\u001b[1;34m(self, driver_command, params)\u001b[0m\n\u001b[0;32m    422\u001b[0m         \u001b[0mresponse\u001b[0m \u001b[1;33m=\u001b[0m \u001b[0mself\u001b[0m\u001b[1;33m.\u001b[0m\u001b[0mcommand_executor\u001b[0m\u001b[1;33m.\u001b[0m\u001b[0mexecute\u001b[0m\u001b[1;33m(\u001b[0m\u001b[0mdriver_command\u001b[0m\u001b[1;33m,\u001b[0m \u001b[0mparams\u001b[0m\u001b[1;33m)\u001b[0m\u001b[1;33m\u001b[0m\u001b[1;33m\u001b[0m\u001b[0m\n\u001b[0;32m    423\u001b[0m         \u001b[1;32mif\u001b[0m \u001b[0mresponse\u001b[0m\u001b[1;33m:\u001b[0m\u001b[1;33m\u001b[0m\u001b[1;33m\u001b[0m\u001b[0m\n\u001b[1;32m--> 424\u001b[1;33m             \u001b[0mself\u001b[0m\u001b[1;33m.\u001b[0m\u001b[0merror_handler\u001b[0m\u001b[1;33m.\u001b[0m\u001b[0mcheck_response\u001b[0m\u001b[1;33m(\u001b[0m\u001b[0mresponse\u001b[0m\u001b[1;33m)\u001b[0m\u001b[1;33m\u001b[0m\u001b[1;33m\u001b[0m\u001b[0m\n\u001b[0m\u001b[0;32m    425\u001b[0m             response['value'] = self._unwrap_value(\n\u001b[0;32m    426\u001b[0m                 response.get('value', None))\n",
      "\u001b[1;32m~\\anaconda3\\lib\\site-packages\\selenium\\webdriver\\remote\\errorhandler.py\u001b[0m in \u001b[0;36mcheck_response\u001b[1;34m(self, response)\u001b[0m\n\u001b[0;32m    245\u001b[0m                 \u001b[0malert_text\u001b[0m \u001b[1;33m=\u001b[0m \u001b[0mvalue\u001b[0m\u001b[1;33m[\u001b[0m\u001b[1;34m'alert'\u001b[0m\u001b[1;33m]\u001b[0m\u001b[1;33m.\u001b[0m\u001b[0mget\u001b[0m\u001b[1;33m(\u001b[0m\u001b[1;34m'text'\u001b[0m\u001b[1;33m)\u001b[0m\u001b[1;33m\u001b[0m\u001b[1;33m\u001b[0m\u001b[0m\n\u001b[0;32m    246\u001b[0m             \u001b[1;32mraise\u001b[0m \u001b[0mexception_class\u001b[0m\u001b[1;33m(\u001b[0m\u001b[0mmessage\u001b[0m\u001b[1;33m,\u001b[0m \u001b[0mscreen\u001b[0m\u001b[1;33m,\u001b[0m \u001b[0mstacktrace\u001b[0m\u001b[1;33m,\u001b[0m \u001b[0malert_text\u001b[0m\u001b[1;33m)\u001b[0m  \u001b[1;31m# type: ignore[call-arg]  # mypy is not smart enough here\u001b[0m\u001b[1;33m\u001b[0m\u001b[1;33m\u001b[0m\u001b[0m\n\u001b[1;32m--> 247\u001b[1;33m         \u001b[1;32mraise\u001b[0m \u001b[0mexception_class\u001b[0m\u001b[1;33m(\u001b[0m\u001b[0mmessage\u001b[0m\u001b[1;33m,\u001b[0m \u001b[0mscreen\u001b[0m\u001b[1;33m,\u001b[0m \u001b[0mstacktrace\u001b[0m\u001b[1;33m)\u001b[0m\u001b[1;33m\u001b[0m\u001b[1;33m\u001b[0m\u001b[0m\n\u001b[0m\u001b[0;32m    248\u001b[0m \u001b[1;33m\u001b[0m\u001b[0m\n\u001b[0;32m    249\u001b[0m     \u001b[1;32mdef\u001b[0m \u001b[0m_value_or_default\u001b[0m\u001b[1;33m(\u001b[0m\u001b[0mself\u001b[0m\u001b[1;33m,\u001b[0m \u001b[0mobj\u001b[0m\u001b[1;33m:\u001b[0m \u001b[0mMapping\u001b[0m\u001b[1;33m[\u001b[0m\u001b[0m_KT\u001b[0m\u001b[1;33m,\u001b[0m \u001b[0m_VT\u001b[0m\u001b[1;33m]\u001b[0m\u001b[1;33m,\u001b[0m \u001b[0mkey\u001b[0m\u001b[1;33m:\u001b[0m \u001b[0m_KT\u001b[0m\u001b[1;33m,\u001b[0m \u001b[0mdefault\u001b[0m\u001b[1;33m:\u001b[0m \u001b[0m_VT\u001b[0m\u001b[1;33m)\u001b[0m \u001b[1;33m->\u001b[0m \u001b[0m_VT\u001b[0m\u001b[1;33m:\u001b[0m\u001b[1;33m\u001b[0m\u001b[1;33m\u001b[0m\u001b[0m\n",
      "\u001b[1;31mWebDriverException\u001b[0m: Message: target frame detached\n  (Session info: chrome=99.0.4844.82)\nStacktrace:\nBacktrace:\n\tOrdinal0 [0x00C99943+2595139]\n\tOrdinal0 [0x00C2C9F1+2148849]\n\tOrdinal0 [0x00B243F0+1065968]\n\tOrdinal0 [0x00B15A97+1006231]\n\tOrdinal0 [0x00B14AD0+1002192]\n\tOrdinal0 [0x00B150D8+1003736]\n\tOrdinal0 [0x00B15068+1003624]\n\tOrdinal0 [0x00B1AD85+1027461]\n\tOrdinal0 [0x00B1AFC6+1028038]\n\tOrdinal0 [0x00B162AD+1008301]\n\tOrdinal0 [0x00B167C5+1009605]\n\tOrdinal0 [0x00B165AF+1009071]\n\tOrdinal0 [0x00B15BC6+1006534]\n\tOrdinal0 [0x00B14AD0+1002192]\n\tOrdinal0 [0x00B150D8+1003736]\n\tOrdinal0 [0x00B2C6EF+1099503]\n\tOrdinal0 [0x00B2692B+1075499]\n\tOrdinal0 [0x00B264A5+1074341]\n\tOrdinal0 [0x00B26C7B+1076347]\n\tOrdinal0 [0x00B26F50+1077072]\n\tOrdinal0 [0x00B52FD6+1257430]\n\tOrdinal0 [0x00B51EC4+1253060]\n\tOrdinal0 [0x00B47AB3+1211059]\n\tOrdinal0 [0x00B6B9EC+1358316]\n\tOrdinal0 [0x00B47474+1209460]\n\tOrdinal0 [0x00B6BC04+1358852]\n\tOrdinal0 [0x00B7BAF2+1424114]\n\tOrdinal0 [0x00B6B806+1357830]\n\tOrdinal0 [0x00B46086+1204358]\n\tOrdinal0 [0x00B46F96+1208214]\n\tGetHandleVerifier [0x00E3B232+1658114]\n\tGetHandleVerifier [0x00EF312C+2411516]\n\tGetHandleVerifier [0x00D2F261+560433]\n\tGetHandleVerifier [0x00D2E366+556598]\n\tOrdinal0 [0x00C3286B+2173035]\n\tOrdinal0 [0x00C375F8+2192888]\n\tOrdinal0 [0x00C376E5+2193125]\n\tOrdinal0 [0x00C411FC+2232828]\n\tBaseThreadInitThunk [0x754AFA29+25]\n\tRtlGetAppContainerNamedObjectPath [0x77587A7E+286]\n\tRtlGetAppContainerNamedObjectPath [0x77587A4E+238]\n"
     ]
    }
   ],
   "source": [
    "title_list=[]\n",
    "price_list=[]\n",
    "brand_list=[]\n",
    "driver=wb.Chrome()\n",
    "time.sleep(0.5)\n",
    "driver.get(\"http://cocomapet.com/\")\n",
    "driver.maximize_window()\n",
    "time.sleep(0.5)\n",
    "driver.find_element_by_xpath('//*[@id=\"cnb\"]/div/ul/li[3]/a').click()\n",
    "time.sleep(0.5)\n",
    "driver.find_element_by_xpath('//*[@id=\"contents\"]/div[1]/ul/li[1]/a').click()\n",
    "time.sleep(0.5)\n",
    "for i in range(10):\n",
    "    img=driver.find_elements_by_css_selector(\"img.thumb\")\n",
    "    img[i].click()\n",
    "    time.sleep(1)\n",
    "    title=driver.find_element_by_css_selector(\".detail-fixed-wrap > h3\")\n",
    "    price=driver.find_element_by_css_selector(\".product_price_css > td\")\n",
    "    brand=driver.find_element_by_css_selector(\".prd_brand_css > td\")\n",
    "    # 순수 글자 정보만 저장해주는 리스트 작업\n",
    "    title_list.append(title.text)\n",
    "    price_list.append(price.text)\n",
    "    brand_list.append(brand.text)\n",
    "    driver.back()\n",
    "    time.sleep(1)\n",
    "dic={\"상품명\": title_list, \"가격\": price_list, \"브랜드\":brand_list}\n",
    "cocomapet=pd.DataFrame(dic)\n",
    "cocomapet\n",
    "cocomapet.to_csv(\"티셔츠.csv\", encoding=\"euc-kr\")\n",
    "\n",
    "    "
   ]
  },
  {
   "cell_type": "code",
   "execution_count": null,
   "id": "4475c899",
   "metadata": {},
   "outputs": [],
   "source": [
    "cocomapet"
   ]
  },
  {
   "cell_type": "markdown",
   "id": "6817e540",
   "metadata": {},
   "source": [
    "# 원피스"
   ]
  },
  {
   "cell_type": "code",
   "execution_count": null,
   "id": "77daf1fe",
   "metadata": {},
   "outputs": [],
   "source": [
    "title_list=[]\n",
    "price_list=[]\n",
    "brand_list=[]\n",
    "driver=wb.Chrome()\n",
    "time.sleep(0.5)\n",
    "driver.get(\"http://cocomapet.com/\")\n",
    "driver.maximize_window()\n",
    "time.sleep(0.5)\n",
    "driver.find_element_by_xpath('//*[@id=\"cnb\"]/div/ul/li[3]/a').click()\n",
    "time.sleep(0.5)\n",
    "driver.find_element_by_xpath('//*[@id=\"contents\"]/div[1]/ul/li[2]/a').click()\n",
    "time.sleep(0.5)\n",
    "for i in range(10):\n",
    "    img=driver.find_elements_by_css_selector(\"img.thumb\")\n",
    "    img[i].click()\n",
    "    time.sleep(1)\n",
    "    title=driver.find_element_by_css_selector(\".detail-fixed-wrap > h3\")\n",
    "    price=driver.find_element_by_css_selector(\".product_price_css > td\")\n",
    "    brand=driver.find_element_by_css_selector(\".prd_brand_css > td\")\n",
    "    # 순수 글자 정보만 저장해주는 리스트 작업\n",
    "    title_list.append(title.text)\n",
    "    price_list.append(price.text)\n",
    "    brand_list.append(brand.text)\n",
    "    driver.back()\n",
    "    time.sleep(1)\n",
    "dic={\"상품명\": title_list, \"가격\": price_list, \"브랜드\":brand_list}\n",
    "cocomapet=pd.DataFrame(dic)\n",
    "cocomapet\n",
    "cocomapet.to_csv(\"원피스.csv\", encoding=\"euc-kr\")"
   ]
  },
  {
   "cell_type": "code",
   "execution_count": null,
   "id": "1c85fedd",
   "metadata": {},
   "outputs": [],
   "source": [
    "cocomapet"
   ]
  },
  {
   "cell_type": "markdown",
   "id": "9932d45a",
   "metadata": {},
   "source": [
    "# 올인원"
   ]
  },
  {
   "cell_type": "code",
   "execution_count": null,
   "id": "7c3bda09",
   "metadata": {},
   "outputs": [],
   "source": [
    "title_list=[]\n",
    "price_list=[]\n",
    "brand_list=[]\n",
    "driver=wb.Chrome()\n",
    "time.sleep(0.5)\n",
    "driver.get(\"http://cocomapet.com/\")\n",
    "driver.maximize_window()\n",
    "time.sleep(0.5)\n",
    "driver.find_element_by_xpath('//*[@id=\"cnb\"]/div/ul/li[3]/a').click()\n",
    "time.sleep(0.5)\n",
    "driver.find_element_by_xpath('//*[@id=\"contents\"]/div[1]/ul/li[3]/a').click()\n",
    "time.sleep(0.5)\n",
    "for i in range(10):\n",
    "    img=driver.find_elements_by_css_selector(\"img.thumb\")\n",
    "    img[i].click()\n",
    "    time.sleep(1)\n",
    "    title=driver.find_element_by_css_selector(\".detail-fixed-wrap > h3\")\n",
    "    price=driver.find_element_by_css_selector(\".product_price_css > td\")\n",
    "    brand=driver.find_element_by_css_selector(\".prd_brand_css > td\")\n",
    "    # 순수 글자 정보만 저장해주는 리스트 작업\n",
    "    title_list.append(title.text)\n",
    "    price_list.append(price.text)\n",
    "    brand_list.append(brand.text)\n",
    "    driver.back()\n",
    "    time.sleep(1)\n",
    "dic={\"상품명\": title_list, \"가격\": price_list, \"브랜드\":brand_list}\n",
    "cocomapet=pd.DataFrame(dic)\n",
    "cocomapet\n",
    "cocomapet.to_csv(\"올인원.csv\", encoding=\"euc-kr\")"
   ]
  },
  {
   "cell_type": "code",
   "execution_count": null,
   "id": "f4ff44ec",
   "metadata": {},
   "outputs": [],
   "source": [
    "cocomapet"
   ]
  },
  {
   "cell_type": "markdown",
   "id": "e3494142",
   "metadata": {},
   "source": [
    "# 맨투맨/후드"
   ]
  },
  {
   "cell_type": "code",
   "execution_count": null,
   "id": "fea8442b",
   "metadata": {},
   "outputs": [],
   "source": [
    "title_list=[]\n",
    "price_list=[]\n",
    "brand_list=[]\n",
    "driver=wb.Chrome()\n",
    "time.sleep(0.5)\n",
    "driver.get(\"http://cocomapet.com/\")\n",
    "driver.maximize_window()\n",
    "time.sleep(0.5)\n",
    "driver.find_element_by_xpath('//*[@id=\"cnb\"]/div/ul/li[3]/a').click()\n",
    "time.sleep(0.5)\n",
    "driver.find_element_by_xpath('//*[@id=\"contents\"]/div[1]/ul/li[4]/a').click()\n",
    "time.sleep(0.5)\n",
    "for i in range(10):\n",
    "    img=driver.find_elements_by_css_selector(\"img.thumb\")\n",
    "    img[i].click()\n",
    "    time.sleep(1)\n",
    "    title=driver.find_element_by_css_selector(\".detail-fixed-wrap > h3\")\n",
    "    price=driver.find_element_by_css_selector(\".product_price_css > td\")\n",
    "    brand=driver.find_element_by_css_selector(\".prd_brand_css > td\")\n",
    "    # 순수 글자 정보만 저장해주는 리스트 작업\n",
    "    title_list.append(title.text)\n",
    "    price_list.append(price.text)\n",
    "    brand_list.append(brand.text)\n",
    "    driver.back()\n",
    "    time.sleep(1)\n",
    "dic={\"상품명\": title_list, \"가격\": price_list, \"브랜드\":brand_list}\n",
    "cocomapet=pd.DataFrame(dic)\n",
    "cocomapet\n",
    "cocomapet.to_csv(\"맨투맨.csv\", encoding=\"euc-kr\")"
   ]
  },
  {
   "cell_type": "code",
   "execution_count": null,
   "id": "e0158af7",
   "metadata": {},
   "outputs": [],
   "source": [
    "cocomapet"
   ]
  },
  {
   "cell_type": "markdown",
   "id": "46a62b4b",
   "metadata": {},
   "source": [
    "# 셔츠/블라우스"
   ]
  },
  {
   "cell_type": "code",
   "execution_count": 30,
   "id": "bc2f7561",
   "metadata": {},
   "outputs": [
    {
     "name": "stderr",
     "output_type": "stream",
     "text": [
      "C:\\Users\\smhrd\\AppData\\Local\\Temp/ipykernel_7708/2323196757.py:9: DeprecationWarning: find_element_by_* commands are deprecated. Please use find_element() instead\n",
      "  driver.find_element_by_xpath('//*[@id=\"cnb\"]/div/ul/li[3]/a').click()\n",
      "C:\\Users\\smhrd\\AppData\\Local\\Temp/ipykernel_7708/2323196757.py:11: DeprecationWarning: find_element_by_* commands are deprecated. Please use find_element() instead\n",
      "  driver.find_element_by_xpath('//*[@id=\"contents\"]/div[1]/ul/li[5]/a').click()\n",
      "C:\\Users\\smhrd\\AppData\\Local\\Temp/ipykernel_7708/2323196757.py:14: DeprecationWarning: find_elements_by_* commands are deprecated. Please use find_elements() instead\n",
      "  img=driver.find_elements_by_css_selector(\"img.thumb\")\n",
      "C:\\Users\\smhrd\\AppData\\Local\\Temp/ipykernel_7708/2323196757.py:17: DeprecationWarning: find_element_by_* commands are deprecated. Please use find_element() instead\n",
      "  title=driver.find_element_by_css_selector(\".detail-fixed-wrap > h3\")\n",
      "C:\\Users\\smhrd\\AppData\\Local\\Temp/ipykernel_7708/2323196757.py:18: DeprecationWarning: find_element_by_* commands are deprecated. Please use find_element() instead\n",
      "  price=driver.find_element_by_css_selector(\".product_price_css > td\")\n",
      "C:\\Users\\smhrd\\AppData\\Local\\Temp/ipykernel_7708/2323196757.py:19: DeprecationWarning: find_element_by_* commands are deprecated. Please use find_element() instead\n",
      "  brand=driver.find_element_by_css_selector(\".prd_brand_css > td\")\n"
     ]
    }
   ],
   "source": [
    "title_list=[]\n",
    "price_list=[]\n",
    "brand_list=[]\n",
    "driver=wb.Chrome()\n",
    "time.sleep(0.5)\n",
    "driver.get(\"http://cocomapet.com/\")\n",
    "driver.maximize_window()\n",
    "time.sleep(0.5)\n",
    "driver.find_element_by_xpath('//*[@id=\"cnb\"]/div/ul/li[3]/a').click()\n",
    "time.sleep(0.5)\n",
    "driver.find_element_by_xpath('//*[@id=\"contents\"]/div[1]/ul/li[5]/a').click()\n",
    "time.sleep(0.5)\n",
    "for i in range(10):\n",
    "    img=driver.find_elements_by_css_selector(\"img.thumb\")\n",
    "    img[i].click()\n",
    "    time.sleep(1)\n",
    "    title=driver.find_element_by_css_selector(\".detail-fixed-wrap > h3\")\n",
    "    price=driver.find_element_by_css_selector(\".product_price_css > td\")\n",
    "    brand=driver.find_element_by_css_selector(\".prd_brand_css > td\")\n",
    "    # 순수 글자 정보만 저장해주는 리스트 작업\n",
    "    title_list.append(title.text)\n",
    "    price_list.append(price.text)\n",
    "    brand_list.append(brand.text)\n",
    "    driver.back()\n",
    "    time.sleep(1)\n",
    "dic={\"상품명\": title_list, \"가격\": price_list, \"브랜드\":brand_list}\n",
    "cocomapet=pd.DataFrame(dic)\n",
    "cocomapet\n",
    "cocomapet.to_csv(\"셔츠.csv\", encoding=\"euc-kr\")"
   ]
  },
  {
   "cell_type": "code",
   "execution_count": null,
   "id": "f70f7813",
   "metadata": {},
   "outputs": [],
   "source": [
    "cocomapet"
   ]
  },
  {
   "cell_type": "markdown",
   "id": "2b531ff2",
   "metadata": {},
   "source": [
    "# 아우터"
   ]
  },
  {
   "cell_type": "code",
   "execution_count": 31,
   "id": "51f84c4b",
   "metadata": {},
   "outputs": [
    {
     "name": "stderr",
     "output_type": "stream",
     "text": [
      "C:\\Users\\smhrd\\AppData\\Local\\Temp/ipykernel_7708/985363688.py:9: DeprecationWarning: find_element_by_* commands are deprecated. Please use find_element() instead\n",
      "  driver.find_element_by_xpath('//*[@id=\"cnb\"]/div/ul/li[3]/a').click()\n",
      "C:\\Users\\smhrd\\AppData\\Local\\Temp/ipykernel_7708/985363688.py:11: DeprecationWarning: find_element_by_* commands are deprecated. Please use find_element() instead\n",
      "  driver.find_element_by_xpath('//*[@id=\"contents\"]/div[1]/ul/li[6]/a').click()\n",
      "C:\\Users\\smhrd\\AppData\\Local\\Temp/ipykernel_7708/985363688.py:14: DeprecationWarning: find_elements_by_* commands are deprecated. Please use find_elements() instead\n",
      "  img=driver.find_elements_by_css_selector(\"img.thumb\")\n",
      "C:\\Users\\smhrd\\AppData\\Local\\Temp/ipykernel_7708/985363688.py:17: DeprecationWarning: find_element_by_* commands are deprecated. Please use find_element() instead\n",
      "  title=driver.find_element_by_css_selector(\".detail-fixed-wrap > h3\")\n",
      "C:\\Users\\smhrd\\AppData\\Local\\Temp/ipykernel_7708/985363688.py:18: DeprecationWarning: find_element_by_* commands are deprecated. Please use find_element() instead\n",
      "  price=driver.find_element_by_css_selector(\".product_price_css > td\")\n",
      "C:\\Users\\smhrd\\AppData\\Local\\Temp/ipykernel_7708/985363688.py:19: DeprecationWarning: find_element_by_* commands are deprecated. Please use find_element() instead\n",
      "  brand=driver.find_element_by_css_selector(\".prd_brand_css > td\")\n"
     ]
    }
   ],
   "source": [
    "title_list=[]\n",
    "price_list=[]\n",
    "brand_list=[]\n",
    "driver=wb.Chrome()\n",
    "time.sleep(0.5)\n",
    "driver.get(\"http://cocomapet.com/\")\n",
    "driver.maximize_window()\n",
    "time.sleep(0.5)\n",
    "driver.find_element_by_xpath('//*[@id=\"cnb\"]/div/ul/li[3]/a').click()\n",
    "time.sleep(0.5)\n",
    "driver.find_element_by_xpath('//*[@id=\"contents\"]/div[1]/ul/li[6]/a').click()\n",
    "time.sleep(0.5)\n",
    "for i in range(10):\n",
    "    img=driver.find_elements_by_css_selector(\"img.thumb\")\n",
    "    img[i].click()\n",
    "    time.sleep(1)\n",
    "    title=driver.find_element_by_css_selector(\".detail-fixed-wrap > h3\")\n",
    "    price=driver.find_element_by_css_selector(\".product_price_css > td\")\n",
    "    brand=driver.find_element_by_css_selector(\".prd_brand_css > td\")\n",
    "    # 순수 글자 정보만 저장해주는 리스트 작업\n",
    "    title_list.append(title.text)\n",
    "    price_list.append(price.text)\n",
    "    brand_list.append(brand.text)\n",
    "    driver.back()\n",
    "    time.sleep(1)\n",
    "dic={\"상품명\": title_list, \"가격\": price_list, \"브랜드\":brand_list}\n",
    "cocomapet=pd.DataFrame(dic)\n",
    "cocomapet\n",
    "cocomapet.to_csv(\"아우터.csv\", encoding=\"euc-kr\")"
   ]
  },
  {
   "cell_type": "code",
   "execution_count": null,
   "id": "4b8b3fe0",
   "metadata": {},
   "outputs": [],
   "source": [
    "cocomapet"
   ]
  },
  {
   "cell_type": "markdown",
   "id": "aef14c94",
   "metadata": {},
   "source": [
    "# 니트/가디건"
   ]
  },
  {
   "cell_type": "code",
   "execution_count": 32,
   "id": "e4a418e8",
   "metadata": {},
   "outputs": [
    {
     "name": "stderr",
     "output_type": "stream",
     "text": [
      "C:\\Users\\smhrd\\AppData\\Local\\Temp/ipykernel_7708/3966711221.py:9: DeprecationWarning: find_element_by_* commands are deprecated. Please use find_element() instead\n",
      "  driver.find_element_by_xpath('//*[@id=\"cnb\"]/div/ul/li[3]/a').click()\n",
      "C:\\Users\\smhrd\\AppData\\Local\\Temp/ipykernel_7708/3966711221.py:11: DeprecationWarning: find_element_by_* commands are deprecated. Please use find_element() instead\n",
      "  driver.find_element_by_xpath('//*[@id=\"contents\"]/div[1]/ul/li[7]/a').click()\n",
      "C:\\Users\\smhrd\\AppData\\Local\\Temp/ipykernel_7708/3966711221.py:14: DeprecationWarning: find_elements_by_* commands are deprecated. Please use find_elements() instead\n",
      "  img=driver.find_elements_by_css_selector(\"img.thumb\")\n",
      "C:\\Users\\smhrd\\AppData\\Local\\Temp/ipykernel_7708/3966711221.py:17: DeprecationWarning: find_element_by_* commands are deprecated. Please use find_element() instead\n",
      "  title=driver.find_element_by_css_selector(\".detail-fixed-wrap > h3\")\n",
      "C:\\Users\\smhrd\\AppData\\Local\\Temp/ipykernel_7708/3966711221.py:18: DeprecationWarning: find_element_by_* commands are deprecated. Please use find_element() instead\n",
      "  price=driver.find_element_by_css_selector(\".product_price_css > td\")\n",
      "C:\\Users\\smhrd\\AppData\\Local\\Temp/ipykernel_7708/3966711221.py:19: DeprecationWarning: find_element_by_* commands are deprecated. Please use find_element() instead\n",
      "  brand=driver.find_element_by_css_selector(\".prd_brand_css > td\")\n"
     ]
    }
   ],
   "source": [
    "title_list=[]\n",
    "price_list=[]\n",
    "brand_list=[]\n",
    "driver=wb.Chrome()\n",
    "time.sleep(0.5)\n",
    "driver.get(\"http://cocomapet.com/\")\n",
    "driver.maximize_window()\n",
    "time.sleep(0.5)\n",
    "driver.find_element_by_xpath('//*[@id=\"cnb\"]/div/ul/li[3]/a').click()\n",
    "time.sleep(0.5)\n",
    "driver.find_element_by_xpath('//*[@id=\"contents\"]/div[1]/ul/li[7]/a').click()\n",
    "time.sleep(0.5)\n",
    "for i in range(10):\n",
    "    img=driver.find_elements_by_css_selector(\"img.thumb\")\n",
    "    img[i].click()\n",
    "    time.sleep(1)\n",
    "    title=driver.find_element_by_css_selector(\".detail-fixed-wrap > h3\")\n",
    "    price=driver.find_element_by_css_selector(\".product_price_css > td\")\n",
    "    brand=driver.find_element_by_css_selector(\".prd_brand_css > td\")\n",
    "    # 순수 글자 정보만 저장해주는 리스트 작업\n",
    "    title_list.append(title.text)\n",
    "    price_list.append(price.text)\n",
    "    brand_list.append(brand.text)\n",
    "    driver.back()\n",
    "    time.sleep(1)\n",
    "dic={\"상품명\": title_list, \"가격\": price_list, \"브랜드\":brand_list}\n",
    "cocomapet=pd.DataFrame(dic)\n",
    "cocomapet\n",
    "cocomapet.to_csv(\"니트가디건.csv\", encoding=\"euc-kr\")"
   ]
  },
  {
   "cell_type": "code",
   "execution_count": null,
   "id": "362700b7",
   "metadata": {},
   "outputs": [],
   "source": [
    "cocomapet"
   ]
  },
  {
   "cell_type": "markdown",
   "id": "770dc92e",
   "metadata": {},
   "source": [
    "# 잠옷/가운"
   ]
  },
  {
   "cell_type": "code",
   "execution_count": 33,
   "id": "67fea297",
   "metadata": {},
   "outputs": [
    {
     "name": "stderr",
     "output_type": "stream",
     "text": [
      "C:\\Users\\smhrd\\AppData\\Local\\Temp/ipykernel_7708/2362794644.py:9: DeprecationWarning: find_element_by_* commands are deprecated. Please use find_element() instead\n",
      "  driver.find_element_by_xpath('//*[@id=\"cnb\"]/div/ul/li[3]/a').click()\n",
      "C:\\Users\\smhrd\\AppData\\Local\\Temp/ipykernel_7708/2362794644.py:11: DeprecationWarning: find_element_by_* commands are deprecated. Please use find_element() instead\n",
      "  driver.find_element_by_xpath('//*[@id=\"contents\"]/div[1]/ul/li[8]/a').click()\n",
      "C:\\Users\\smhrd\\AppData\\Local\\Temp/ipykernel_7708/2362794644.py:14: DeprecationWarning: find_elements_by_* commands are deprecated. Please use find_elements() instead\n",
      "  img=driver.find_elements_by_css_selector(\"img.thumb\")\n",
      "C:\\Users\\smhrd\\AppData\\Local\\Temp/ipykernel_7708/2362794644.py:17: DeprecationWarning: find_element_by_* commands are deprecated. Please use find_element() instead\n",
      "  title=driver.find_element_by_css_selector(\".detail-fixed-wrap > h3\")\n",
      "C:\\Users\\smhrd\\AppData\\Local\\Temp/ipykernel_7708/2362794644.py:18: DeprecationWarning: find_element_by_* commands are deprecated. Please use find_element() instead\n",
      "  price=driver.find_element_by_css_selector(\".product_price_css > td\")\n",
      "C:\\Users\\smhrd\\AppData\\Local\\Temp/ipykernel_7708/2362794644.py:19: DeprecationWarning: find_element_by_* commands are deprecated. Please use find_element() instead\n",
      "  brand=driver.find_element_by_css_selector(\".prd_brand_css > td\")\n"
     ]
    }
   ],
   "source": [
    "title_list=[]\n",
    "price_list=[]\n",
    "brand_list=[]\n",
    "driver=wb.Chrome()\n",
    "time.sleep(0.5)\n",
    "driver.get(\"http://cocomapet.com/\")\n",
    "driver.maximize_window()\n",
    "time.sleep(0.5)\n",
    "driver.find_element_by_xpath('//*[@id=\"cnb\"]/div/ul/li[3]/a').click()\n",
    "time.sleep(0.5)\n",
    "driver.find_element_by_xpath('//*[@id=\"contents\"]/div[1]/ul/li[8]/a').click()\n",
    "time.sleep(0.5)\n",
    "for i in range(10):\n",
    "    img=driver.find_elements_by_css_selector(\"img.thumb\")\n",
    "    img[i].click()\n",
    "    time.sleep(1)\n",
    "    title=driver.find_element_by_css_selector(\".detail-fixed-wrap > h3\")\n",
    "    price=driver.find_element_by_css_selector(\".product_price_css > td\")\n",
    "    brand=driver.find_element_by_css_selector(\".prd_brand_css > td\")\n",
    "    # 순수 글자 정보만 저장해주는 리스트 작업\n",
    "    title_list.append(title.text)\n",
    "    price_list.append(price.text)\n",
    "    brand_list.append(brand.text)\n",
    "    driver.back()\n",
    "    time.sleep(1)\n",
    "dic={\"상품명\": title_list, \"가격\": price_list, \"브랜드\":brand_list}\n",
    "cocomapet=pd.DataFrame(dic)\n",
    "cocomapet\n",
    "cocomapet.to_csv(\"잠옷가운.csv\", encoding=\"euc-kr\")"
   ]
  },
  {
   "cell_type": "code",
   "execution_count": null,
   "id": "dd43b2a3",
   "metadata": {},
   "outputs": [],
   "source": [
    "cocomapet"
   ]
  },
  {
   "cell_type": "markdown",
   "id": "92b1aa22",
   "metadata": {},
   "source": [
    "# 한복"
   ]
  },
  {
   "cell_type": "code",
   "execution_count": 34,
   "id": "05f1c17d",
   "metadata": {},
   "outputs": [
    {
     "name": "stderr",
     "output_type": "stream",
     "text": [
      "C:\\Users\\smhrd\\AppData\\Local\\Temp/ipykernel_7708/110213180.py:9: DeprecationWarning: find_element_by_* commands are deprecated. Please use find_element() instead\n",
      "  driver.find_element_by_xpath('//*[@id=\"cnb\"]/div/ul/li[3]/a').click()\n",
      "C:\\Users\\smhrd\\AppData\\Local\\Temp/ipykernel_7708/110213180.py:11: DeprecationWarning: find_element_by_* commands are deprecated. Please use find_element() instead\n",
      "  driver.find_element_by_xpath('//*[@id=\"contents\"]/div[1]/ul/li[9]/a').click()\n",
      "C:\\Users\\smhrd\\AppData\\Local\\Temp/ipykernel_7708/110213180.py:14: DeprecationWarning: find_elements_by_* commands are deprecated. Please use find_elements() instead\n",
      "  img=driver.find_elements_by_css_selector(\"img.thumb\")\n",
      "C:\\Users\\smhrd\\AppData\\Local\\Temp/ipykernel_7708/110213180.py:17: DeprecationWarning: find_element_by_* commands are deprecated. Please use find_element() instead\n",
      "  title=driver.find_element_by_css_selector(\".detail-fixed-wrap > h3\")\n",
      "C:\\Users\\smhrd\\AppData\\Local\\Temp/ipykernel_7708/110213180.py:18: DeprecationWarning: find_element_by_* commands are deprecated. Please use find_element() instead\n",
      "  price=driver.find_element_by_css_selector(\".product_price_css > td\")\n",
      "C:\\Users\\smhrd\\AppData\\Local\\Temp/ipykernel_7708/110213180.py:19: DeprecationWarning: find_element_by_* commands are deprecated. Please use find_element() instead\n",
      "  brand=driver.find_element_by_css_selector(\".prd_brand_css > td\")\n"
     ]
    }
   ],
   "source": [
    "title_list=[]\n",
    "price_list=[]\n",
    "brand_list=[]\n",
    "driver=wb.Chrome()\n",
    "time.sleep(0.5)\n",
    "driver.get(\"http://cocomapet.com/\")\n",
    "driver.maximize_window()\n",
    "time.sleep(0.5)\n",
    "driver.find_element_by_xpath('//*[@id=\"cnb\"]/div/ul/li[3]/a').click()\n",
    "time.sleep(0.5)\n",
    "driver.find_element_by_xpath('//*[@id=\"contents\"]/div[1]/ul/li[9]/a').click()\n",
    "time.sleep(0.5)\n",
    "for i in range(10):\n",
    "    img=driver.find_elements_by_css_selector(\"img.thumb\")\n",
    "    img[i].click()\n",
    "    time.sleep(1)\n",
    "    title=driver.find_element_by_css_selector(\".detail-fixed-wrap > h3\")\n",
    "    price=driver.find_element_by_css_selector(\".product_price_css > td\")\n",
    "    brand=driver.find_element_by_css_selector(\".prd_brand_css > td\")\n",
    "    # 순수 글자 정보만 저장해주는 리스트 작업\n",
    "    title_list.append(title.text)\n",
    "    price_list.append(price.text)\n",
    "    brand_list.append(brand.text)\n",
    "    driver.back()\n",
    "    time.sleep(1)\n",
    "dic={\"상품명\": title_list, \"가격\": price_list, \"브랜드\":brand_list}\n",
    "cocomapet=pd.DataFrame(dic)\n",
    "cocomapet\n",
    "cocomapet.to_csv(\"한복.csv\", encoding=\"euc-kr\")"
   ]
  },
  {
   "cell_type": "code",
   "execution_count": null,
   "id": "a7480b81",
   "metadata": {},
   "outputs": [],
   "source": [
    "cocomapet"
   ]
  },
  {
   "cell_type": "markdown",
   "id": "916e688e",
   "metadata": {},
   "source": [
    "# 레인코트"
   ]
  },
  {
   "cell_type": "code",
   "execution_count": 35,
   "id": "77ba328f",
   "metadata": {},
   "outputs": [
    {
     "name": "stderr",
     "output_type": "stream",
     "text": [
      "C:\\Users\\smhrd\\AppData\\Local\\Temp/ipykernel_7708/364055308.py:9: DeprecationWarning: find_element_by_* commands are deprecated. Please use find_element() instead\n",
      "  driver.find_element_by_xpath('//*[@id=\"cnb\"]/div/ul/li[3]/a').click()\n",
      "C:\\Users\\smhrd\\AppData\\Local\\Temp/ipykernel_7708/364055308.py:11: DeprecationWarning: find_element_by_* commands are deprecated. Please use find_element() instead\n",
      "  driver.find_element_by_xpath('//*[@id=\"contents\"]/div[1]/ul/li[10]/a').click()\n",
      "C:\\Users\\smhrd\\AppData\\Local\\Temp/ipykernel_7708/364055308.py:14: DeprecationWarning: find_elements_by_* commands are deprecated. Please use find_elements() instead\n",
      "  img=driver.find_elements_by_css_selector(\"img.thumb\")\n",
      "C:\\Users\\smhrd\\AppData\\Local\\Temp/ipykernel_7708/364055308.py:17: DeprecationWarning: find_element_by_* commands are deprecated. Please use find_element() instead\n",
      "  title=driver.find_element_by_css_selector(\".detail-fixed-wrap > h3\")\n",
      "C:\\Users\\smhrd\\AppData\\Local\\Temp/ipykernel_7708/364055308.py:18: DeprecationWarning: find_element_by_* commands are deprecated. Please use find_element() instead\n",
      "  price=driver.find_element_by_css_selector(\".product_price_css > td\")\n",
      "C:\\Users\\smhrd\\AppData\\Local\\Temp/ipykernel_7708/364055308.py:19: DeprecationWarning: find_element_by_* commands are deprecated. Please use find_element() instead\n",
      "  brand=driver.find_element_by_css_selector(\".prd_brand_css > td\")\n"
     ]
    }
   ],
   "source": [
    "title_list=[]\n",
    "price_list=[]\n",
    "brand_list=[]\n",
    "driver=wb.Chrome()\n",
    "time.sleep(0.5)\n",
    "driver.get(\"http://cocomapet.com/\")\n",
    "driver.maximize_window()\n",
    "time.sleep(0.5)\n",
    "driver.find_element_by_xpath('//*[@id=\"cnb\"]/div/ul/li[3]/a').click()\n",
    "time.sleep(0.5)\n",
    "driver.find_element_by_xpath('//*[@id=\"contents\"]/div[1]/ul/li[10]/a').click()\n",
    "time.sleep(0.5)\n",
    "for i in range(7):\n",
    "    img=driver.find_elements_by_css_selector(\"img.thumb\")\n",
    "    img[i].click()\n",
    "    time.sleep(1)\n",
    "    title=driver.find_element_by_css_selector(\".detail-fixed-wrap > h3\")\n",
    "    price=driver.find_element_by_css_selector(\".product_price_css > td\")\n",
    "    brand=driver.find_element_by_css_selector(\".prd_brand_css > td\")\n",
    "    # 순수 글자 정보만 저장해주는 리스트 작업\n",
    "    title_list.append(title.text)\n",
    "    price_list.append(price.text)\n",
    "    brand_list.append(brand.text)\n",
    "    driver.back()\n",
    "    time.sleep(1)\n",
    "dic={\"상품명\": title_list, \"가격\": price_list, \"브랜드\":brand_list}\n",
    "cocomapet=pd.DataFrame(dic)\n",
    "cocomapet\n",
    "cocomapet.to_csv(\"레인코트.csv\", encoding=\"euc-kr\")"
   ]
  },
  {
   "cell_type": "code",
   "execution_count": null,
   "id": "ae586bb4",
   "metadata": {},
   "outputs": [],
   "source": [
    "cocomapet"
   ]
  },
  {
   "cell_type": "markdown",
   "id": "5040b243",
   "metadata": {},
   "source": [
    "# 래쉬가드"
   ]
  },
  {
   "cell_type": "code",
   "execution_count": 36,
   "id": "112c78ee",
   "metadata": {},
   "outputs": [
    {
     "name": "stderr",
     "output_type": "stream",
     "text": [
      "C:\\Users\\smhrd\\AppData\\Local\\Temp/ipykernel_7708/4056094320.py:9: DeprecationWarning: find_element_by_* commands are deprecated. Please use find_element() instead\n",
      "  driver.find_element_by_xpath('//*[@id=\"cnb\"]/div/ul/li[3]/a').click()\n",
      "C:\\Users\\smhrd\\AppData\\Local\\Temp/ipykernel_7708/4056094320.py:11: DeprecationWarning: find_element_by_* commands are deprecated. Please use find_element() instead\n",
      "  driver.find_element_by_xpath('//*[@id=\"contents\"]/div[1]/ul/li[11]/a').click()\n",
      "C:\\Users\\smhrd\\AppData\\Local\\Temp/ipykernel_7708/4056094320.py:14: DeprecationWarning: find_elements_by_* commands are deprecated. Please use find_elements() instead\n",
      "  img=driver.find_elements_by_css_selector(\"img.thumb\")\n",
      "C:\\Users\\smhrd\\AppData\\Local\\Temp/ipykernel_7708/4056094320.py:17: DeprecationWarning: find_element_by_* commands are deprecated. Please use find_element() instead\n",
      "  title=driver.find_element_by_css_selector(\".detail-fixed-wrap > h3\")\n",
      "C:\\Users\\smhrd\\AppData\\Local\\Temp/ipykernel_7708/4056094320.py:18: DeprecationWarning: find_element_by_* commands are deprecated. Please use find_element() instead\n",
      "  price=driver.find_element_by_css_selector(\".product_price_css > td\")\n",
      "C:\\Users\\smhrd\\AppData\\Local\\Temp/ipykernel_7708/4056094320.py:19: DeprecationWarning: find_element_by_* commands are deprecated. Please use find_element() instead\n",
      "  brand=driver.find_element_by_css_selector(\".prd_brand_css > td\")\n"
     ]
    }
   ],
   "source": [
    "title_list=[]\n",
    "price_list=[]\n",
    "brand_list=[]\n",
    "driver=wb.Chrome()\n",
    "time.sleep(0.5)\n",
    "driver.get(\"http://cocomapet.com/\")\n",
    "driver.maximize_window()\n",
    "time.sleep(0.5)\n",
    "driver.find_element_by_xpath('//*[@id=\"cnb\"]/div/ul/li[3]/a').click()\n",
    "time.sleep(0.5)\n",
    "driver.find_element_by_xpath('//*[@id=\"contents\"]/div[1]/ul/li[11]/a').click()\n",
    "time.sleep(0.5)\n",
    "for i in range(3, 13):\n",
    "    img=driver.find_elements_by_css_selector(\"img.thumb\")\n",
    "    img[i].click()\n",
    "    time.sleep(1)\n",
    "    title=driver.find_element_by_css_selector(\".detail-fixed-wrap > h3\")\n",
    "    price=driver.find_element_by_css_selector(\".product_price_css > td\")\n",
    "    brand=driver.find_element_by_css_selector(\".prd_brand_css > td\")\n",
    "    # 순수 글자 정보만 저장해주는 리스트 작업\n",
    "    title_list.append(title.text)\n",
    "    price_list.append(price.text)\n",
    "    brand_list.append(brand.text)\n",
    "    driver.back()\n",
    "    time.sleep(1)\n",
    "dic={\"상품명\": title_list, \"가격\": price_list, \"브랜드\":brand_list}\n",
    "cocomapet=pd.DataFrame(dic)\n",
    "cocomapet\n",
    "cocomapet.to_csv(\"래쉬가드.csv\", encoding=\"euc-kr\")"
   ]
  },
  {
   "cell_type": "code",
   "execution_count": null,
   "id": "20696b8a",
   "metadata": {},
   "outputs": [],
   "source": [
    "cocomapet"
   ]
  },
  {
   "cell_type": "markdown",
   "id": "dea6524d",
   "metadata": {},
   "source": [
    "# 구명조끼"
   ]
  },
  {
   "cell_type": "code",
   "execution_count": 37,
   "id": "296dc74b",
   "metadata": {},
   "outputs": [
    {
     "name": "stderr",
     "output_type": "stream",
     "text": [
      "C:\\Users\\smhrd\\AppData\\Local\\Temp/ipykernel_7708/48904895.py:9: DeprecationWarning: find_element_by_* commands are deprecated. Please use find_element() instead\n",
      "  driver.find_element_by_xpath('//*[@id=\"cnb\"]/div/ul/li[3]/a').click()\n",
      "C:\\Users\\smhrd\\AppData\\Local\\Temp/ipykernel_7708/48904895.py:11: DeprecationWarning: find_element_by_* commands are deprecated. Please use find_element() instead\n",
      "  driver.find_element_by_xpath('//*[@id=\"contents\"]/div[1]/ul/li[12]/a').click()\n",
      "C:\\Users\\smhrd\\AppData\\Local\\Temp/ipykernel_7708/48904895.py:14: DeprecationWarning: find_elements_by_* commands are deprecated. Please use find_elements() instead\n",
      "  img=driver.find_elements_by_css_selector(\"img.thumb\")\n",
      "C:\\Users\\smhrd\\AppData\\Local\\Temp/ipykernel_7708/48904895.py:17: DeprecationWarning: find_element_by_* commands are deprecated. Please use find_element() instead\n",
      "  title=driver.find_element_by_css_selector(\".detail-fixed-wrap > h3\")\n",
      "C:\\Users\\smhrd\\AppData\\Local\\Temp/ipykernel_7708/48904895.py:18: DeprecationWarning: find_element_by_* commands are deprecated. Please use find_element() instead\n",
      "  price=driver.find_element_by_css_selector(\".product_price_css > td\")\n",
      "C:\\Users\\smhrd\\AppData\\Local\\Temp/ipykernel_7708/48904895.py:19: DeprecationWarning: find_element_by_* commands are deprecated. Please use find_element() instead\n",
      "  brand=driver.find_element_by_css_selector(\".prd_brand_css > td\")\n"
     ]
    }
   ],
   "source": [
    "title_list=[]\n",
    "price_list=[]\n",
    "brand_list=[]\n",
    "driver=wb.Chrome()\n",
    "time.sleep(0.5)\n",
    "driver.get(\"http://cocomapet.com/\")\n",
    "driver.maximize_window()\n",
    "time.sleep(0.5)\n",
    "driver.find_element_by_xpath('//*[@id=\"cnb\"]/div/ul/li[3]/a').click()\n",
    "time.sleep(0.5)\n",
    "driver.find_element_by_xpath('//*[@id=\"contents\"]/div[1]/ul/li[12]/a').click()\n",
    "time.sleep(0.5)\n",
    "for i in range(4):\n",
    "    img=driver.find_elements_by_css_selector(\"img.thumb\")\n",
    "    img[i].click()\n",
    "    time.sleep(1)\n",
    "    title=driver.find_element_by_css_selector(\".detail-fixed-wrap > h3\")\n",
    "    price=driver.find_element_by_css_selector(\".product_price_css > td\")\n",
    "    brand=driver.find_element_by_css_selector(\".prd_brand_css > td\")\n",
    "    # 순수 글자 정보만 저장해주는 리스트 작업\n",
    "    title_list.append(title.text)\n",
    "    price_list.append(price.text)\n",
    "    brand_list.append(brand.text)\n",
    "    driver.back()\n",
    "    time.sleep(1)\n",
    "dic={\"상품명\": title_list, \"가격\": price_list, \"브랜드\":brand_list}\n",
    "cocomapet=pd.DataFrame(dic)\n",
    "cocomapet\n",
    "cocomapet.to_csv(\"구명조끼.csv\", encoding=\"euc-kr\")"
   ]
  },
  {
   "cell_type": "code",
   "execution_count": null,
   "id": "5506de71",
   "metadata": {},
   "outputs": [],
   "source": [
    "cocomapet"
   ]
  },
  {
   "cell_type": "markdown",
   "id": "b8b4b877",
   "metadata": {},
   "source": [
    "# 커플룩"
   ]
  },
  {
   "cell_type": "code",
   "execution_count": 38,
   "id": "6ce23536",
   "metadata": {},
   "outputs": [
    {
     "name": "stderr",
     "output_type": "stream",
     "text": [
      "C:\\Users\\smhrd\\AppData\\Local\\Temp/ipykernel_7708/3324436654.py:9: DeprecationWarning: find_element_by_* commands are deprecated. Please use find_element() instead\n",
      "  driver.find_element_by_xpath('//*[@id=\"cnb\"]/div/ul/li[3]/a').click()\n",
      "C:\\Users\\smhrd\\AppData\\Local\\Temp/ipykernel_7708/3324436654.py:11: DeprecationWarning: find_element_by_* commands are deprecated. Please use find_element() instead\n",
      "  driver.find_element_by_xpath('//*[@id=\"contents\"]/div[1]/ul/li[13]/a').click()\n",
      "C:\\Users\\smhrd\\AppData\\Local\\Temp/ipykernel_7708/3324436654.py:14: DeprecationWarning: find_elements_by_* commands are deprecated. Please use find_elements() instead\n",
      "  img=driver.find_elements_by_css_selector(\"img.thumb\")\n",
      "C:\\Users\\smhrd\\AppData\\Local\\Temp/ipykernel_7708/3324436654.py:17: DeprecationWarning: find_element_by_* commands are deprecated. Please use find_element() instead\n",
      "  title=driver.find_element_by_css_selector(\".detail-fixed-wrap > h3\")\n",
      "C:\\Users\\smhrd\\AppData\\Local\\Temp/ipykernel_7708/3324436654.py:18: DeprecationWarning: find_element_by_* commands are deprecated. Please use find_element() instead\n",
      "  price=driver.find_element_by_css_selector(\".product_price_css > td\")\n",
      "C:\\Users\\smhrd\\AppData\\Local\\Temp/ipykernel_7708/3324436654.py:19: DeprecationWarning: find_element_by_* commands are deprecated. Please use find_element() instead\n",
      "  brand=driver.find_element_by_css_selector(\".prd_brand_css > td\")\n"
     ]
    }
   ],
   "source": [
    "title_list=[]\n",
    "price_list=[]\n",
    "brand_list=[]\n",
    "driver=wb.Chrome()\n",
    "time.sleep(0.5)\n",
    "driver.get(\"http://cocomapet.com/\")\n",
    "driver.maximize_window()\n",
    "time.sleep(0.5)\n",
    "driver.find_element_by_xpath('//*[@id=\"cnb\"]/div/ul/li[3]/a').click()\n",
    "time.sleep(0.5)\n",
    "driver.find_element_by_xpath('//*[@id=\"contents\"]/div[1]/ul/li[13]/a').click()\n",
    "time.sleep(0.5)\n",
    "for i in range(10):\n",
    "    img=driver.find_elements_by_css_selector(\"img.thumb\")\n",
    "    img[i].click()\n",
    "    time.sleep(1)\n",
    "    title=driver.find_element_by_css_selector(\".detail-fixed-wrap > h3\")\n",
    "    price=driver.find_element_by_css_selector(\".product_price_css > td\")\n",
    "    brand=driver.find_element_by_css_selector(\".prd_brand_css > td\")\n",
    "    # 순수 글자 정보만 저장해주는 리스트 작업\n",
    "    title_list.append(title.text)\n",
    "    price_list.append(price.text)\n",
    "    brand_list.append(brand.text)\n",
    "    driver.back()\n",
    "    time.sleep(1)\n",
    "dic={\"상품명\": title_list, \"가격\": price_list, \"브랜드\":brand_list}\n",
    "cocomapet=pd.DataFrame(dic)\n",
    "cocomapet\n",
    "cocomapet.to_csv(\"커플룩.csv\", encoding=\"euc-kr\")"
   ]
  },
  {
   "cell_type": "code",
   "execution_count": null,
   "id": "b0ee2c26",
   "metadata": {},
   "outputs": [],
   "source": [
    "cocomapet"
   ]
  },
  {
   "cell_type": "code",
   "execution_count": null,
   "id": "525e79d7",
   "metadata": {},
   "outputs": [],
   "source": []
  },
  {
   "cell_type": "code",
   "execution_count": null,
   "id": "f32241cf",
   "metadata": {},
   "outputs": [],
   "source": []
  },
  {
   "cell_type": "code",
   "execution_count": null,
   "id": "2445d497",
   "metadata": {},
   "outputs": [],
   "source": []
  },
  {
   "cell_type": "code",
   "execution_count": null,
   "id": "8b000209",
   "metadata": {},
   "outputs": [],
   "source": []
  },
  {
   "cell_type": "code",
   "execution_count": null,
   "id": "890b7295",
   "metadata": {},
   "outputs": [],
   "source": []
  },
  {
   "cell_type": "code",
   "execution_count": null,
   "id": "3d299510",
   "metadata": {},
   "outputs": [],
   "source": []
  },
  {
   "cell_type": "code",
   "execution_count": null,
   "id": "4eb02c0b",
   "metadata": {},
   "outputs": [],
   "source": []
  },
  {
   "cell_type": "code",
   "execution_count": null,
   "id": "664ada21",
   "metadata": {},
   "outputs": [],
   "source": []
  },
  {
   "cell_type": "code",
   "execution_count": null,
   "id": "d0ef54ff",
   "metadata": {},
   "outputs": [],
   "source": []
  },
  {
   "cell_type": "code",
   "execution_count": null,
   "id": "20a0c643",
   "metadata": {},
   "outputs": [],
   "source": []
  },
  {
   "cell_type": "code",
   "execution_count": null,
   "id": "3b2f37d9",
   "metadata": {},
   "outputs": [],
   "source": []
  },
  {
   "cell_type": "code",
   "execution_count": null,
   "id": "b4751e80",
   "metadata": {},
   "outputs": [],
   "source": []
  },
  {
   "cell_type": "code",
   "execution_count": null,
   "id": "27e4fd08",
   "metadata": {},
   "outputs": [],
   "source": []
  },
  {
   "cell_type": "code",
   "execution_count": null,
   "id": "acf81c65",
   "metadata": {},
   "outputs": [],
   "source": []
  },
  {
   "cell_type": "code",
   "execution_count": null,
   "id": "9d8fc50a",
   "metadata": {},
   "outputs": [],
   "source": []
  },
  {
   "cell_type": "code",
   "execution_count": null,
   "id": "e2a54f8f",
   "metadata": {},
   "outputs": [],
   "source": []
  },
  {
   "cell_type": "code",
   "execution_count": null,
   "id": "c9f72ea5",
   "metadata": {},
   "outputs": [],
   "source": []
  },
  {
   "cell_type": "code",
   "execution_count": null,
   "id": "02573415",
   "metadata": {},
   "outputs": [],
   "source": []
  },
  {
   "cell_type": "code",
   "execution_count": null,
   "id": "e521365e",
   "metadata": {},
   "outputs": [],
   "source": []
  },
  {
   "cell_type": "code",
   "execution_count": null,
   "id": "388c8620",
   "metadata": {},
   "outputs": [],
   "source": []
  },
  {
   "cell_type": "code",
   "execution_count": null,
   "id": "4f14f440",
   "metadata": {},
   "outputs": [],
   "source": []
  },
  {
   "cell_type": "code",
   "execution_count": null,
   "id": "f63ff036",
   "metadata": {},
   "outputs": [],
   "source": []
  },
  {
   "cell_type": "code",
   "execution_count": null,
   "id": "1602123e",
   "metadata": {},
   "outputs": [],
   "source": []
  }
 ],
 "metadata": {
  "kernelspec": {
   "display_name": "Python 3 (ipykernel)",
   "language": "python",
   "name": "python3"
  },
  "language_info": {
   "codemirror_mode": {
    "name": "ipython",
    "version": 3
   },
   "file_extension": ".py",
   "mimetype": "text/x-python",
   "name": "python",
   "nbconvert_exporter": "python",
   "pygments_lexer": "ipython3",
   "version": "3.9.7"
  },
  "toc": {
   "base_numbering": 1,
   "nav_menu": {},
   "number_sections": true,
   "sideBar": true,
   "skip_h1_title": false,
   "title_cell": "Table of Contents",
   "title_sidebar": "Contents",
   "toc_cell": false,
   "toc_position": {
    "height": "calc(100% - 180px)",
    "left": "10px",
    "top": "150px",
    "width": "480px"
   },
   "toc_section_display": true,
   "toc_window_display": true
  }
 },
 "nbformat": 4,
 "nbformat_minor": 5
}
